{
 "cells": [
  {
   "cell_type": "code",
   "execution_count": 3,
   "id": "2c3c195f-24c2-4a4c-9156-9c22ed7fcd9e",
   "metadata": {},
   "outputs": [],
   "source": [
    "import os\n",
    "import getpass\n",
    "\n",
    "LANGSMITH_ENDPOINT=\"https://api.smith.langchain.com\"\n",
    "LANGSMITH_API_KEY=\"KEY\n",
    "LANGSMITH_PROJECT=\"testingToolsAgents\"\n",
    "OPENAI_API_KEY=\"KEY\"\n",
    "\n",
    "os.environ[\"LANGSMITH_API_KEY\"] = LANGSMITH_API_KEY\n",
    "os.environ[\"LANGSMITH_TRACING\"] = \"true\"\n",
    "os.environ[\"OPENAI_API_KEY\"] = OPENAI_API_KEY\n"
   ]
  },
  {
   "cell_type": "code",
   "execution_count": 4,
   "id": "173a157a-a163-4ad2-9e07-b1426d8575f7",
   "metadata": {},
   "outputs": [
    {
     "name": "stdout",
     "output_type": "stream",
     "text": [
      "\n",
      "\u001b[1m[\u001b[0m\u001b[34;49mnotice\u001b[0m\u001b[1;39;49m]\u001b[0m\u001b[39;49m A new release of pip is available: \u001b[0m\u001b[31;49m24.0\u001b[0m\u001b[39;49m -> \u001b[0m\u001b[32;49m24.3.1\u001b[0m\n",
      "\u001b[1m[\u001b[0m\u001b[34;49mnotice\u001b[0m\u001b[1;39;49m]\u001b[0m\u001b[39;49m To update, run: \u001b[0m\u001b[32;49mpython3.11 -m pip install --upgrade pip\u001b[0m\n",
      "Note: you may need to restart the kernel to use updated packages.\n"
     ]
    }
   ],
   "source": [
    "pip install --upgrade --quiet  langchain-community langchainhub langgraph"
   ]
  },
  {
   "cell_type": "code",
   "execution_count": 5,
   "id": "2a2e17e2-92c8-4ff7-8f7f-9e7a3d6d61a5",
   "metadata": {},
   "outputs": [
    {
     "name": "stdout",
     "output_type": "stream",
     "text": [
      "\n",
      "\u001b[1m[\u001b[0m\u001b[34;49mnotice\u001b[0m\u001b[1;39;49m]\u001b[0m\u001b[39;49m A new release of pip is available: \u001b[0m\u001b[31;49m24.0\u001b[0m\u001b[39;49m -> \u001b[0m\u001b[32;49m24.3.1\u001b[0m\n",
      "\u001b[1m[\u001b[0m\u001b[34;49mnotice\u001b[0m\u001b[1;39;49m]\u001b[0m\u001b[39;49m To update, run: \u001b[0m\u001b[32;49mpython3.11 -m pip install --upgrade pip\u001b[0m\n",
      "Note: you may need to restart the kernel to use updated packages.\n"
     ]
    }
   ],
   "source": [
    "pip install --quiet psycopg2\n"
   ]
  },
  {
   "cell_type": "code",
   "execution_count": null,
   "id": "a58246a6-422d-4957-8703-0feeb77f89c1",
   "metadata": {},
   "outputs": [],
   "source": []
  },
  {
   "cell_type": "code",
   "execution_count": 6,
   "id": "599e6b4e-2bd7-410a-b0ef-87902fa08c7c",
   "metadata": {},
   "outputs": [
    {
     "name": "stdout",
     "output_type": "stream",
     "text": [
      "Tables in the database: [('department',), ('project',), ('employee',), ('task',), ('employee_task',)]\n"
     ]
    }
   ],
   "source": [
    "import sqlite3\n",
    "import requests\n",
    "from sqlalchemy import create_engine\n",
    "from langchain_community.utilities.sql_database import SQLDatabase\n",
    "from sqlalchemy.pool import StaticPool\n",
    "\n",
    "\n",
    "def get_engine_for_postgresql_db():\n",
    "    \"\"\"\n",
    "    Connect to a local PostgreSQL database and create an engine.\n",
    "    \"\"\"\n",
    "    # Define your PostgreSQL connection details\n",
    "    db_user = \"amanaman\"        \n",
    "    db_password = \"amansoni\"   \n",
    "    db_host = \"localhost\"            \n",
    "    db_port = \"5432\"                \n",
    "    db_name = \"example_db\"  \n",
    "\n",
    "    # Create the engine for PostgreSQL\n",
    "    connection_url = f\"postgresql+psycopg2://{db_user}:{db_password}@{db_host}:{db_port}/{db_name}\"\n",
    "    return create_engine(connection_url)\n",
    "\n",
    "\n",
    "# Create the engine\n",
    "engine = get_engine_for_postgresql_db()\n",
    "\n",
    "# Create the SQLDatabase instance\n",
    "db = SQLDatabase(engine)\n",
    "\n",
    "# Example usage (optional)\n",
    "if __name__ == \"__main__\":\n",
    "    # Test the connection by running a query\n",
    "    try:\n",
    "        result = db.run(\"SELECT table_name FROM information_schema.tables WHERE table_schema = 'public';\")\n",
    "        print(\"Tables in the database:\", result)\n",
    "    except Exception as e:\n",
    "        print(\"Error connecting to the database:\", e)\n"
   ]
  },
  {
   "cell_type": "code",
   "execution_count": 7,
   "id": "61382ea8-bcaf-438f-a1f6-4fd26a626260",
   "metadata": {},
   "outputs": [],
   "source": [
    "from langchain_openai import ChatOpenAI\n",
    "llm = ChatOpenAI(model=\"gpt-4o-mini\")\n",
    "\n",
    "from langchain_community.agent_toolkits.sql.toolkit import SQLDatabaseToolkit\n",
    "toolkit = SQLDatabaseToolkit(db=db, llm=llm)"
   ]
  },
  {
   "cell_type": "code",
   "execution_count": 12,
   "id": "4b6d40a5-8957-4c0e-99f7-47a324d97fcc",
   "metadata": {},
   "outputs": [
    {
     "name": "stdout",
     "output_type": "stream",
     "text": [
      "[QuerySQLDatabaseTool(description=\"Input to this tool is a detailed and correct SQL query, output is a result from the database. If the query is not correct, an error message will be returned. If an error is returned, rewrite the query, check the query, and try again. If you encounter an issue with Unknown column 'xxxx' in 'field list', use sql_db_schema to query the correct table fields.\", db=<langchain_community.utilities.sql_database.SQLDatabase object at 0x1074787d0>), InfoSQLDatabaseTool(description='Input to this tool is a comma-separated list of tables, output is the schema and sample rows for those tables. Be sure that the tables actually exist by calling sql_db_list_tables first! Example Input: table1, table2, table3', db=<langchain_community.utilities.sql_database.SQLDatabase object at 0x1074787d0>), ListSQLDatabaseTool(db=<langchain_community.utilities.sql_database.SQLDatabase object at 0x1074787d0>), QuerySQLCheckerTool(description='Use this tool to double check if your query is correct before executing it. Always use this tool before executing a query with sql_db_query!', db=<langchain_community.utilities.sql_database.SQLDatabase object at 0x1074787d0>, llm=ChatOpenAI(client=<openai.resources.chat.completions.Completions object at 0x114338950>, async_client=<openai.resources.chat.completions.AsyncCompletions object at 0x114e0b790>, root_client=<openai.OpenAI object at 0x1147e8f50>, root_async_client=<openai.AsyncOpenAI object at 0x11544b5d0>, model_name='gpt-4o-mini', model_kwargs={}, openai_api_key=SecretStr('**********')), llm_chain=LLMChain(verbose=False, prompt=PromptTemplate(input_variables=['dialect', 'query'], input_types={}, partial_variables={}, template='\\n{query}\\nDouble check the {dialect} query above for common mistakes, including:\\n- Using NOT IN with NULL values\\n- Using UNION when UNION ALL should have been used\\n- Using BETWEEN for exclusive ranges\\n- Data type mismatch in predicates\\n- Properly quoting identifiers\\n- Using the correct number of arguments for functions\\n- Casting to the correct data type\\n- Using the proper columns for joins\\n\\nIf there are any of the above mistakes, rewrite the query. If there are no mistakes, just reproduce the original query.\\n\\nOutput the final SQL query only.\\n\\nSQL Query: '), llm=ChatOpenAI(client=<openai.resources.chat.completions.Completions object at 0x114338950>, async_client=<openai.resources.chat.completions.AsyncCompletions object at 0x114e0b790>, root_client=<openai.OpenAI object at 0x1147e8f50>, root_async_client=<openai.AsyncOpenAI object at 0x11544b5d0>, model_name='gpt-4o-mini', model_kwargs={}, openai_api_key=SecretStr('**********')), output_parser=StrOutputParser(), llm_kwargs={}))]\n"
     ]
    }
   ],
   "source": [
    "# tools overview.\n",
    "print(toolkit.get_tools())"
   ]
  },
  {
   "cell_type": "code",
   "execution_count": 13,
   "id": "986c06f4-ce66-4f57-9428-8db793c514ac",
   "metadata": {},
   "outputs": [],
   "source": [
    "# using the individual tools directly:\n",
    "from langchain_community.tools.sql_database.tool import (\n",
    "    InfoSQLDatabaseTool,\n",
    "    ListSQLDatabaseTool,\n",
    "    QuerySQLCheckerTool,\n",
    "    QuerySQLDatabaseTool,\n",
    ")"
   ]
  },
  {
   "cell_type": "markdown",
   "id": "2b2336e4-9676-4373-97ba-b31445e90fb4",
   "metadata": {},
   "source": [
    "### Use within an agent\n",
    "we equip a simple question-answering agent with the tools in our toolkit"
   ]
  },
  {
   "cell_type": "code",
   "execution_count": 14,
   "id": "a525dd68-b221-441f-947d-4d0e209431a0",
   "metadata": {},
   "outputs": [
    {
     "name": "stdout",
     "output_type": "stream",
     "text": [
      "['dialect', 'top_k']\n"
     ]
    }
   ],
   "source": [
    "from langchain import hub\n",
    "prompt_template = hub.pull(\"langchain-ai/sql-agent-system-prompt\")\n",
    "\n",
    "assert len(prompt_template.messages) == 1\n",
    "print(prompt_template.input_variables)"
   ]
  },
  {
   "cell_type": "code",
   "execution_count": 15,
   "id": "941a608e-d7b6-4cc5-bcd4-f5f2ed219c03",
   "metadata": {},
   "outputs": [],
   "source": [
    "system_message = prompt_template.format(dialect=\"SQLite\", top_k=5)"
   ]
  },
  {
   "cell_type": "code",
   "execution_count": 16,
   "id": "923fb58e-7884-43d4-856e-7087df00cc97",
   "metadata": {},
   "outputs": [],
   "source": [
    "# agent innitiation\n",
    "from langgraph.prebuilt import create_react_agent\n",
    "\n",
    "agent_executor = create_react_agent(\n",
    "    llm, toolkit.get_tools(), state_modifier=system_message\n",
    ")"
   ]
  },
  {
   "cell_type": "code",
   "execution_count": 17,
   "id": "b9393069-d050-4c27-89a9-a629a3196bbd",
   "metadata": {
    "scrolled": true
   },
   "outputs": [
    {
     "name": "stdout",
     "output_type": "stream",
     "text": [
      "================================\u001b[1m Human Message \u001b[0m=================================\n",
      "\n",
      "Which employee have the most salary\n",
      "==================================\u001b[1m Ai Message \u001b[0m==================================\n",
      "Tool Calls:\n",
      "  sql_db_list_tables (call_PGI7xDGw2sjTd6UeLaRwVKiB)\n",
      " Call ID: call_PGI7xDGw2sjTd6UeLaRwVKiB\n",
      "  Args:\n",
      "=================================\u001b[1m Tool Message \u001b[0m=================================\n",
      "Name: sql_db_list_tables\n",
      "\n",
      "department, employee, employee_task, project, task\n",
      "==================================\u001b[1m Ai Message \u001b[0m==================================\n",
      "Tool Calls:\n",
      "  sql_db_schema (call_KzWFxKIljKU8JssCZHvzcy6e)\n",
      " Call ID: call_KzWFxKIljKU8JssCZHvzcy6e\n",
      "  Args:\n",
      "    table_names: employee\n",
      "=================================\u001b[1m Tool Message \u001b[0m=================================\n",
      "Name: sql_db_schema\n",
      "\n",
      "\n",
      "CREATE TABLE employee (\n",
      "\temployee_id SERIAL NOT NULL, \n",
      "\tname VARCHAR(255) NOT NULL, \n",
      "\tage INTEGER NOT NULL, \n",
      "\tsalary NUMERIC(10, 2) NOT NULL, \n",
      "\tdepartment_id INTEGER, \n",
      "\tCONSTRAINT employee_pkey PRIMARY KEY (employee_id), \n",
      "\tCONSTRAINT employee_department_id_fkey FOREIGN KEY(department_id) REFERENCES department (department_id)\n",
      ")\n",
      "\n",
      "/*\n",
      "3 rows from employee table:\n",
      "employee_id\tname\tage\tsalary\tdepartment_id\n",
      "1\tEmployee_1\t24\t103789.70\t4\n",
      "2\tEmployee_2\t36\t112095.56\t1\n",
      "3\tEmployee_3\t28\t75364.29\t5\n",
      "*/\n",
      "==================================\u001b[1m Ai Message \u001b[0m==================================\n",
      "Tool Calls:\n",
      "  sql_db_query_checker (call_M3UFVFV47fT7Gbk8oTwK6HYz)\n",
      " Call ID: call_M3UFVFV47fT7Gbk8oTwK6HYz\n",
      "  Args:\n",
      "    query: SELECT name, salary FROM employee ORDER BY salary DESC LIMIT 1\n",
      "=================================\u001b[1m Tool Message \u001b[0m=================================\n",
      "Name: sql_db_query_checker\n",
      "\n",
      "```sql\n",
      "SELECT name, salary FROM employee ORDER BY salary DESC LIMIT 1\n",
      "```\n",
      "==================================\u001b[1m Ai Message \u001b[0m==================================\n",
      "Tool Calls:\n",
      "  sql_db_query (call_Jbkq7FqtEDoiYZAtwB5XjymT)\n",
      " Call ID: call_Jbkq7FqtEDoiYZAtwB5XjymT\n",
      "  Args:\n",
      "    query: SELECT name, salary FROM employee ORDER BY salary DESC LIMIT 1\n",
      "=================================\u001b[1m Tool Message \u001b[0m=================================\n",
      "Name: sql_db_query\n",
      "\n",
      "[('Employee_36', Decimal('119252.66'))]\n",
      "==================================\u001b[1m Ai Message \u001b[0m==================================\n",
      "\n",
      "The employee with the highest salary is **Employee_36**, with a salary of **$119,252.66**.\n"
     ]
    }
   ],
   "source": [
    "# Asking a query\n",
    "example_query = \"Which employee have the most salary\"\n",
    "\n",
    "events = agent_executor.stream(\n",
    "    {\"messages\": [(\"user\", example_query)]},\n",
    "    stream_mode=\"values\",\n",
    ")\n",
    "for event in events:\n",
    "    event[\"messages\"][-1].pretty_print()"
   ]
  },
  {
   "cell_type": "code",
   "execution_count": 18,
   "id": "0d30193d-06a3-4e4f-a932-4b397376acf0",
   "metadata": {
    "scrolled": true
   },
   "outputs": [
    {
     "name": "stdout",
     "output_type": "stream",
     "text": [
      "================================\u001b[1m Human Message \u001b[0m=================================\n",
      "\n",
      "Who are the top 3 best selling artists?\n",
      "==================================\u001b[1m Ai Message \u001b[0m==================================\n",
      "Tool Calls:\n",
      "  sql_db_list_tables (call_3LhKrwGVcCEIq5jz8mgBAnW3)\n",
      " Call ID: call_3LhKrwGVcCEIq5jz8mgBAnW3\n",
      "  Args:\n",
      "=================================\u001b[1m Tool Message \u001b[0m=================================\n",
      "Name: sql_db_list_tables\n",
      "\n",
      "department, employee, employee_task, project, task\n",
      "==================================\u001b[1m Ai Message \u001b[0m==================================\n",
      "Tool Calls:\n",
      "  sql_db_schema (call_vN7xYBkxru2eD7KPhaq4zDHd)\n",
      " Call ID: call_vN7xYBkxru2eD7KPhaq4zDHd\n",
      "  Args:\n",
      "    table_names: department\n",
      "  sql_db_schema (call_LhYdudPU4Ym9mx6cftndOoqO)\n",
      " Call ID: call_LhYdudPU4Ym9mx6cftndOoqO\n",
      "  Args:\n",
      "    table_names: employee\n",
      "  sql_db_schema (call_xhQSRRS2UbgKI6Bjt8hDveH8)\n",
      " Call ID: call_xhQSRRS2UbgKI6Bjt8hDveH8\n",
      "  Args:\n",
      "    table_names: employee_task\n",
      "  sql_db_schema (call_CfKwHeLHzQ7CLrY6V4LqBpPE)\n",
      " Call ID: call_CfKwHeLHzQ7CLrY6V4LqBpPE\n",
      "  Args:\n",
      "    table_names: project\n",
      "  sql_db_schema (call_o6JVWvnaZtH518y10bUdIPJh)\n",
      " Call ID: call_o6JVWvnaZtH518y10bUdIPJh\n",
      "  Args:\n",
      "    table_names: task\n",
      "=================================\u001b[1m Tool Message \u001b[0m=================================\n",
      "Name: sql_db_schema\n",
      "\n",
      "\n",
      "CREATE TABLE task (\n",
      "\ttask_id SERIAL NOT NULL, \n",
      "\tname VARCHAR(255) NOT NULL, \n",
      "\tproject_id INTEGER, \n",
      "\tCONSTRAINT task_pkey PRIMARY KEY (task_id), \n",
      "\tCONSTRAINT task_project_id_fkey FOREIGN KEY(project_id) REFERENCES project (project_id)\n",
      ")\n",
      "\n",
      "/*\n",
      "3 rows from task table:\n",
      "task_id\tname\tproject_id\n",
      "1\tTask_1\t3\n",
      "2\tTask_2\t14\n",
      "3\tTask_3\t13\n",
      "*/\n",
      "==================================\u001b[1m Ai Message \u001b[0m==================================\n",
      "\n",
      "It appears that the database does not contain any information related to artists or sales data. The tables available are related to departments, employees, projects, and tasks. Therefore, I cannot retrieve the top 3 best-selling artists from this database. \n",
      "\n",
      "If you need help with data from a specific table or need information about employees or projects, please let me know!\n"
     ]
    }
   ],
   "source": [
    "# If error occurs?\n",
    "example_query = \"Who are the top 3 best selling artists?\"\n",
    "\n",
    "events = agent_executor.stream(\n",
    "    {\"messages\": [(\"user\", example_query)]},\n",
    "    stream_mode=\"values\",\n",
    ")\n",
    "for event in events:\n",
    "    event[\"messages\"][-1].pretty_print()"
   ]
  },
  {
   "cell_type": "markdown",
   "id": "8df68f68-ccf5-40b3-8246-743480b7e8a9",
   "metadata": {},
   "source": [
    "### ---Testing wrong questions----"
   ]
  },
  {
   "cell_type": "code",
   "execution_count": 21,
   "id": "5b00f7ff-5cae-459c-aed0-8abf50b54ba7",
   "metadata": {},
   "outputs": [
    {
     "name": "stdout",
     "output_type": "stream",
     "text": [
      "================================\u001b[1m Human Message \u001b[0m=================================\n",
      "\n",
      "what was the last question I asked?\n",
      "==================================\u001b[1m Ai Message \u001b[0m==================================\n",
      "Tool Calls:\n",
      "  sql_db_list_tables (call_eepT1cgK0Q5g5rVMR6dGH659)\n",
      " Call ID: call_eepT1cgK0Q5g5rVMR6dGH659\n",
      "  Args:\n",
      "=================================\u001b[1m Tool Message \u001b[0m=================================\n",
      "Name: sql_db_list_tables\n",
      "\n",
      "department, employee, employee_task, project, task\n",
      "==================================\u001b[1m Ai Message \u001b[0m==================================\n",
      "Tool Calls:\n",
      "  sql_db_schema (call_LUoQ99LIyY9OfiXkUHAo2HXZ)\n",
      " Call ID: call_LUoQ99LIyY9OfiXkUHAo2HXZ\n",
      "  Args:\n",
      "    table_names: department\n",
      "  sql_db_schema (call_gENqwpQhsXfOuqxRpTCK3CEc)\n",
      " Call ID: call_gENqwpQhsXfOuqxRpTCK3CEc\n",
      "  Args:\n",
      "    table_names: employee\n",
      "  sql_db_schema (call_zlTnP0MawG3C2hCzPGkQBrpq)\n",
      " Call ID: call_zlTnP0MawG3C2hCzPGkQBrpq\n",
      "  Args:\n",
      "    table_names: employee_task\n",
      "  sql_db_schema (call_yy9T4t73C0NC4d0Fn0fQOeDY)\n",
      " Call ID: call_yy9T4t73C0NC4d0Fn0fQOeDY\n",
      "  Args:\n",
      "    table_names: project\n",
      "  sql_db_schema (call_2NJQmmBIgVOdSInKlxcpulF6)\n",
      " Call ID: call_2NJQmmBIgVOdSInKlxcpulF6\n",
      "  Args:\n",
      "    table_names: task\n",
      "=================================\u001b[1m Tool Message \u001b[0m=================================\n",
      "Name: sql_db_schema\n",
      "\n",
      "\n",
      "CREATE TABLE task (\n",
      "\ttask_id SERIAL NOT NULL, \n",
      "\tname VARCHAR(255) NOT NULL, \n",
      "\tproject_id INTEGER, \n",
      "\tCONSTRAINT task_pkey PRIMARY KEY (task_id), \n",
      "\tCONSTRAINT task_project_id_fkey FOREIGN KEY(project_id) REFERENCES project (project_id)\n",
      ")\n",
      "\n",
      "/*\n",
      "3 rows from task table:\n",
      "task_id\tname\tproject_id\n",
      "1\tTask_1\t3\n",
      "2\tTask_2\t14\n",
      "3\tTask_3\t13\n",
      "*/\n",
      "==================================\u001b[1m Ai Message \u001b[0m==================================\n",
      "\n",
      "The database contains the following tables:\n",
      "\n",
      "1. **department**\n",
      "   - Columns: department_id, name\n",
      "\n",
      "2. **employee**\n",
      "   - Columns: employee_id, name, age, salary, department_id\n",
      "\n",
      "3. **employee_task**\n",
      "   - Columns: employee_id, task_id\n",
      "\n",
      "4. **project**\n",
      "   - Columns: project_id, name, budget, department_id\n",
      "\n",
      "5. **task**\n",
      "   - Columns: task_id, name, project_id\n",
      "\n",
      "I now have enough information to help you with queries related to these tables. If you have any specific questions regarding the data, feel free to ask!\n"
     ]
    }
   ],
   "source": [
    "# Asking a query\n",
    "example_query = \"what was the last question I asked?\"\n",
    "\n",
    "events = agent_executor.stream(\n",
    "    {\"messages\": [(\"user\", example_query)]},\n",
    "    stream_mode=\"values\",\n",
    ")\n",
    "for event in events:\n",
    "    event[\"messages\"][-1].pretty_print()"
   ]
  },
  {
   "cell_type": "markdown",
   "id": "abe9fa30-f7b2-425b-b481-cbf29a5dcd2d",
   "metadata": {},
   "source": [
    "## SUMUP"
   ]
  },
  {
   "cell_type": "code",
   "execution_count": 53,
   "id": "6179f2f1-47ad-483a-846a-9f7e0bec387b",
   "metadata": {},
   "outputs": [
    {
     "name": "stdout",
     "output_type": "stream",
     "text": [
      "Tables in the database: [('department',), ('project',), ('employee',), ('task',), ('employee_task',)]\n",
      "['dialect', 'top_k']\n",
      "================================\u001b[1m Human Message \u001b[0m=================================\n",
      "\n",
      "which employee have the minimum salary?\n",
      "==================================\u001b[1m Ai Message \u001b[0m==================================\n",
      "Tool Calls:\n",
      "  sql_db_list_tables (call_1u7i3cIjUCdVaqjtO2Xdr7CS)\n",
      " Call ID: call_1u7i3cIjUCdVaqjtO2Xdr7CS\n",
      "  Args:\n",
      "=================================\u001b[1m Tool Message \u001b[0m=================================\n",
      "Name: sql_db_list_tables\n",
      "\n",
      "department, employee, employee_task, project, task\n",
      "==================================\u001b[1m Ai Message \u001b[0m==================================\n",
      "Tool Calls:\n",
      "  sql_db_schema (call_iMrUyP7rWbgoewXG1jnN8Re1)\n",
      " Call ID: call_iMrUyP7rWbgoewXG1jnN8Re1\n",
      "  Args:\n",
      "    table_names: employee\n",
      "=================================\u001b[1m Tool Message \u001b[0m=================================\n",
      "Name: sql_db_schema\n",
      "\n",
      "\n",
      "CREATE TABLE employee (\n",
      "\temployee_id SERIAL NOT NULL, \n",
      "\tname VARCHAR(255) NOT NULL, \n",
      "\tage INTEGER NOT NULL, \n",
      "\tsalary NUMERIC(10, 2) NOT NULL, \n",
      "\tdepartment_id INTEGER, \n",
      "\tCONSTRAINT employee_pkey PRIMARY KEY (employee_id), \n",
      "\tCONSTRAINT employee_department_id_fkey FOREIGN KEY(department_id) REFERENCES department (department_id)\n",
      ")\n",
      "\n",
      "/*\n",
      "3 rows from employee table:\n",
      "employee_id\tname\tage\tsalary\tdepartment_id\n",
      "1\tEmployee_1\t24\t103789.70\t4\n",
      "2\tEmployee_2\t36\t112095.56\t1\n",
      "3\tEmployee_3\t28\t75364.29\t5\n",
      "*/\n",
      "==================================\u001b[1m Ai Message \u001b[0m==================================\n",
      "Tool Calls:\n",
      "  sql_db_query_checker (call_ReFmNCNBiV7EMJKEsqRe6uxS)\n",
      " Call ID: call_ReFmNCNBiV7EMJKEsqRe6uxS\n",
      "  Args:\n",
      "    query: SELECT name, salary FROM employee ORDER BY salary ASC LIMIT 1;\n",
      "=================================\u001b[1m Tool Message \u001b[0m=================================\n",
      "Name: sql_db_query_checker\n",
      "\n",
      "```sql\n",
      "SELECT name, salary FROM employee ORDER BY salary ASC LIMIT 1;\n",
      "```\n",
      "==================================\u001b[1m Ai Message \u001b[0m==================================\n",
      "Tool Calls:\n",
      "  sql_db_query (call_zo8NeaFiUbgrn9CtdOpiKVrY)\n",
      " Call ID: call_zo8NeaFiUbgrn9CtdOpiKVrY\n",
      "  Args:\n",
      "    query: SELECT name, salary FROM employee ORDER BY salary ASC LIMIT 1;\n",
      "=================================\u001b[1m Tool Message \u001b[0m=================================\n",
      "Name: sql_db_query\n",
      "\n",
      "[('Employee_52', Decimal('50826.67'))]\n",
      "==================================\u001b[1m Ai Message \u001b[0m==================================\n",
      "\n",
      "The employee with the minimum salary is **Employee_52**, with a salary of **$50,826.67**.\n"
     ]
    }
   ],
   "source": [
    "import os\n",
    "import getpass\n",
    "\n",
    "LANGSMITH_ENDPOINT=\"https://api.smith.langchain.com\"\n",
    "LANGSMITH_API_KEY=\"KEY\"\n",
    "LANGSMITH_PROJECT=\"testingToolsAgents\"\n",
    "OPENAI_API_KEY=\"KEY\"\n",
    "\n",
    "os.environ[\"LANGSMITH_API_KEY\"] = LANGSMITH_API_KEY\n",
    "os.environ[\"LANGSMITH_TRACING\"] = \"true\"\n",
    "os.environ[\"OPENAI_API_KEY\"] = OPENAI_API_KEY\n",
    "\n",
    "import sqlite3\n",
    "import requests\n",
    "from sqlalchemy import create_engine\n",
    "from langchain_community.utilities.sql_database import SQLDatabase\n",
    "from sqlalchemy.pool import StaticPool\n",
    "from langchain_openai import ChatOpenAI\n",
    "from langchain_community.agent_toolkits.sql.toolkit import SQLDatabaseToolkit\n",
    "from langchain_community.tools.sql_database.tool import (\n",
    "    InfoSQLDatabaseTool,\n",
    "    ListSQLDatabaseTool,\n",
    "    QuerySQLCheckerTool,\n",
    "    QuerySQLDatabaseTool,\n",
    ")\n",
    "from langchain import hub\n",
    "from langgraph.prebuilt import create_react_agent\n",
    "\n",
    "\n",
    "def get_engine_for_postgresql_db():\n",
    "    \"\"\"\n",
    "    Connect to a local PostgreSQL database and create an engine.\n",
    "    \"\"\"\n",
    "    # Define your PostgreSQL connection details\n",
    "    db_user = \"amanaman\"        \n",
    "    db_password = \"amansoni\"   \n",
    "    db_host = \"localhost\"            \n",
    "    db_port = \"5432\"                \n",
    "    db_name = \"example_db\"  \n",
    "\n",
    "    # Create the engine for PostgreSQL\n",
    "    connection_url = f\"postgresql+psycopg2://{db_user}:{db_password}@{db_host}:{db_port}/{db_name}\"\n",
    "    return create_engine(connection_url)\n",
    "\n",
    "\n",
    "# Create the engine\n",
    "engine = get_engine_for_postgresql_db()\n",
    "\n",
    "# Create the SQLDatabase instance\n",
    "db = SQLDatabase(engine)\n",
    "\n",
    "# Example usage (optional)\n",
    "if __name__ == \"__main__\":\n",
    "    # Test the connection by running a query\n",
    "    try:\n",
    "        result = db.run(\"SELECT table_name FROM information_schema.tables WHERE table_schema = 'public';\")\n",
    "        print(\"Tables in the database:\", result)\n",
    "    except Exception as e:\n",
    "        print(\"Error connecting to the database:\", e)\n",
    "\n",
    "\n",
    "\n",
    "llm = ChatOpenAI(model=\"gpt-4o-mini\")\n",
    "toolkit = SQLDatabaseToolkit(db=db, llm=llm)\n",
    "\n",
    "\n",
    "prompt_template = hub.pull(\"langchain-ai/sql-agent-system-prompt\")\n",
    "\n",
    "assert len(prompt_template.messages) == 1\n",
    "print(prompt_template.input_variables)\n",
    "\n",
    "system_message = prompt_template.format(dialect=\"SQLite\", top_k=5)\n",
    "# agent innitiation\n",
    "\n",
    "\n",
    "agent_executor = create_react_agent(\n",
    "    llm, toolkit.get_tools(), state_modifier=system_message\n",
    ")\n",
    "\n",
    "# Asking a query\n",
    "example_query = \"which employee have the minimum salary?\"\n",
    "\n",
    "events = agent_executor.stream(\n",
    "    {\"messages\": [(\"user\", example_query)]},\n",
    "    stream_mode=\"values\",\n",
    ")\n",
    "for event in events:\n",
    "    event[\"messages\"][-1].pretty_print()"
   ]
  },
  {
   "cell_type": "markdown",
   "id": "0d6a55d8-19bb-46b0-be1b-100b27a3b33c",
   "metadata": {},
   "source": [
    "# Memory intgration in Agents"
   ]
  },
  {
   "cell_type": "code",
   "execution_count": 56,
   "id": "345a645e-72ca-43fb-8035-4c6e47eebd7f",
   "metadata": {},
   "outputs": [
    {
     "name": "stdout",
     "output_type": "stream",
     "text": [
      "Tables in the database: [('department',), ('project',), ('employee',), ('task',), ('employee_task',)]\n",
      "['dialect', 'top_k']\n"
     ]
    },
    {
     "name": "stderr",
     "output_type": "stream",
     "text": [
      "Error in RootListenersTracer.on_chain_end callback: KeyError('input')\n"
     ]
    }
   ],
   "source": [
    "from langchain_community.chat_message_histories import ChatMessageHistory\n",
    "from langchain_core.runnables.history import RunnableWithMessageHistory\n",
    "message_history = ChatMessageHistory()\n",
    "\n",
    "import os\n",
    "import getpass\n",
    "\n",
    "LANGSMITH_ENDPOINT=\"https://api.smith.langchain.com\"\n",
    "LANGSMITH_API_KEY=\"KEY\"\n",
    "LANGSMITH_PROJECT=\"testingToolsAgents\"\n",
    "OPENAI_API_KEY=\"KEY\"\n",
    "\n",
    "os.environ[\"LANGSMITH_API_KEY\"] = LANGSMITH_API_KEY\n",
    "os.environ[\"LANGSMITH_TRACING\"] = \"true\"\n",
    "os.environ[\"OPENAI_API_KEY\"] = OPENAI_API_KEY\n",
    "\n",
    "import sqlite3\n",
    "import requests\n",
    "from sqlalchemy import create_engine\n",
    "from langchain_community.utilities.sql_database import SQLDatabase\n",
    "from sqlalchemy.pool import StaticPool\n",
    "from langchain_openai import ChatOpenAI\n",
    "from langchain_community.agent_toolkits.sql.toolkit import SQLDatabaseToolkit\n",
    "from langchain_community.tools.sql_database.tool import (\n",
    "    InfoSQLDatabaseTool,\n",
    "    ListSQLDatabaseTool,\n",
    "    QuerySQLCheckerTool,\n",
    "    QuerySQLDatabaseTool,\n",
    ")\n",
    "from langchain import hub\n",
    "from langgraph.prebuilt import create_react_agent\n",
    "\n",
    "\n",
    "def get_engine_for_postgresql_db():\n",
    "    \"\"\"\n",
    "    Connect to a local PostgreSQL database and create an engine.\n",
    "    \"\"\"\n",
    "    # Define your PostgreSQL connection details\n",
    "    db_user = \"amanaman\"        \n",
    "    db_password = \"amansoni\"   \n",
    "    db_host = \"localhost\"            \n",
    "    db_port = \"5432\"                \n",
    "    db_name = \"example_db\"  \n",
    "\n",
    "    # Create the engine for PostgreSQL\n",
    "    connection_url = f\"postgresql+psycopg2://{db_user}:{db_password}@{db_host}:{db_port}/{db_name}\"\n",
    "    return create_engine(connection_url)\n",
    "\n",
    "\n",
    "# Create the engine\n",
    "engine = get_engine_for_postgresql_db()\n",
    "\n",
    "# Create the SQLDatabase instance\n",
    "db = SQLDatabase(engine)\n",
    "\n",
    "# Example usage (optional)\n",
    "if __name__ == \"__main__\":\n",
    "    # Test the connection by running a query\n",
    "    try:\n",
    "        result = db.run(\"SELECT table_name FROM information_schema.tables WHERE table_schema = 'public';\")\n",
    "        print(\"Tables in the database:\", result)\n",
    "    except Exception as e:\n",
    "        print(\"Error connecting to the database:\", e)\n",
    "\n",
    "\n",
    "\n",
    "llm = ChatOpenAI(model=\"gpt-4o-mini\")\n",
    "toolkit = SQLDatabaseToolkit(db=db, llm=llm)\n",
    "\n",
    "\n",
    "prompt_template = hub.pull(\"langchain-ai/sql-agent-system-prompt\")\n",
    "\n",
    "assert len(prompt_template.messages) == 1\n",
    "print(prompt_template.input_variables)\n",
    "\n",
    "system_message = prompt_template.format(dialect=\"SQLite\", top_k=5)\n",
    "# agent innitiation\n",
    "from langchain_core.messages import AIMessage, HumanMessage\n",
    "\n",
    "\n",
    "\n",
    "\n",
    "\n",
    "\n",
    "\n",
    "#actual\n",
    "agent_executor = create_react_agent(\n",
    "    llm, toolkit.get_tools(), state_modifier=system_message,\n",
    ")\n",
    "\n",
    "# agent_executor.invoke(\n",
    "#     {\n",
    "#         \"chat_history\": [\n",
    "#             HumanMessage(content=\"hi! my name is bob\"),\n",
    "#             AIMessage(content=\"Hello Bob! How can I assist you today?\"),\n",
    "#         ],\n",
    "#         \"input\": \"Hi, I want you to answer some questions\",\n",
    "#     }\n",
    "# )\n",
    "\n",
    "\n",
    "agent_with_chat_history = RunnableWithMessageHistory(\n",
    "    agent_executor,\n",
    "    # This is needed because in most real world scenarios, a session id is needed\n",
    "    # It isn't really used here because we are using a simple in memory ChatMessageHistory\n",
    "    lambda session_id: message_history,\n",
    "    input_messages_key=\"input\",\n",
    "    history_messages_key=\"chat_history\",\n",
    ")\n",
    "\n",
    "# Asking a query\n",
    "example_query = \"what is the relation between the employee and department?\"\n",
    "\n",
    "events = agent_with_chat_history.invoke(\n",
    "    {\"messages\": [(\"user\", example_query)]},\n",
    "    stream_mode=\"values\",\n",
    "    config={\"configurable\": {\"session_id\": \"<foo>\"}}\n",
    ")\n",
    "# for event in events:\n",
    "#     event[\"messages\"][-1].pretty_print()"
   ]
  },
  {
   "cell_type": "code",
   "execution_count": 50,
   "id": "180b76b1-8e70-440c-b6e8-f5a1a166ce4c",
   "metadata": {},
   "outputs": [
    {
     "name": "stdout",
     "output_type": "stream",
     "text": [
      "messages\n"
     ]
    }
   ],
   "source": [
    "for i in events:\n",
    "    print(i)\n"
   ]
  },
  {
   "cell_type": "code",
   "execution_count": 65,
   "id": "771454c7-91d6-4d89-90ed-d85be24aa962",
   "metadata": {},
   "outputs": [
    {
     "data": {
      "text/plain": [
       "AIMessage(content=\"The relationship between the `employee` and `department` tables is established through a foreign key constraint. Here are the key points:\\n\\n- The `employee` table contains a column named `department_id`, which references the `department_id` in the `department` table.\\n- This means that each employee is associated with a specific department, identified by the department's ID.\\n- The `department` table includes `department_id` as its primary key.\\n\\nIn summary, each employee can belong to one department, while each department can have multiple employees associated with it, establishing a one-to-many relationship between departments and employees.\", additional_kwargs={'refusal': None}, response_metadata={'token_usage': {'completion_tokens': 125, 'prompt_tokens': 884, 'total_tokens': 1009, 'completion_tokens_details': {'accepted_prediction_tokens': 0, 'audio_tokens': 0, 'reasoning_tokens': 0, 'rejected_prediction_tokens': 0}, 'prompt_tokens_details': {'audio_tokens': 0, 'cached_tokens': 0}}, 'model_name': 'gpt-4o-mini-2024-07-18', 'system_fingerprint': 'fp_72ed7ab54c', 'finish_reason': 'stop', 'logprobs': None}, id='run-d2865c95-419a-4df9-a71e-d7093c90a0c6-0', usage_metadata={'input_tokens': 884, 'output_tokens': 125, 'total_tokens': 1009, 'input_token_details': {'audio': 0, 'cache_read': 0}, 'output_token_details': {'audio': 0, 'reasoning': 0}})"
      ]
     },
     "execution_count": 65,
     "metadata": {},
     "output_type": "execute_result"
    }
   ],
   "source": [
    "# events[\"messages\"][-1].pretty_print()\n",
    "events['messages'][-1]"
   ]
  },
  {
   "cell_type": "code",
   "execution_count": null,
   "id": "e74dda9f-ee6f-4b1c-88a3-97a10f7facdf",
   "metadata": {},
   "outputs": [],
   "source": []
  }
 ],
 "metadata": {
  "kernelspec": {
   "display_name": "Python 3 (ipykernel)",
   "language": "python",
   "name": "python3"
  },
  "language_info": {
   "codemirror_mode": {
    "name": "ipython",
    "version": 3
   },
   "file_extension": ".py",
   "mimetype": "text/x-python",
   "name": "python",
   "nbconvert_exporter": "python",
   "pygments_lexer": "ipython3",
   "version": "3.11.9"
  }
 },
 "nbformat": 4,
 "nbformat_minor": 5
}
